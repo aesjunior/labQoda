{
  "nbformat": 4,
  "nbformat_minor": 0,
  "metadata": {
    "colab": {
      "name": "Fase2.ipynb",
      "provenance": [],
      "include_colab_link": true
    },
    "kernelspec": {
      "name": "python3",
      "display_name": "Python 3"
    }
  },
  "cells": [
    {
      "cell_type": "markdown",
      "metadata": {
        "id": "view-in-github",
        "colab_type": "text"
      },
      "source": [
        "<a href=\"https://colab.research.google.com/github/aesjunior/labQoda/blob/master/lab01b.ipynb\" target=\"_parent\"><img src=\"https://colab.research.google.com/assets/colab-badge.svg\" alt=\"Open In Colab\"/></a>"
      ]
    },
    {
      "cell_type": "markdown",
      "metadata": {
        "id": "CYNAmoj4zSXl",
        "colab_type": "text"
      },
      "source": [
        "Crie um algoritmo em Python que peça 2 números e imprima o maior deles."
      ]
    },
    {
      "cell_type": "code",
      "metadata": {
        "id": "ViAfpy3GzPN-",
        "colab_type": "code",
        "colab": {}
      },
      "source": [
        "# INSIRA SEU CÓDIGO AQUI\n",
        "\n",
        "n1 = float(input(\"Digite um numero por favor : \"))\n",
        "\n",
        "n2  = float(input(\"Por favor, Digite outro numero : \"))\n",
        "\n",
        "if n1 > n2 :\n",
        "  print(f\"{n1} é maior que {n2} \")\n",
        "else :\n",
        "  print(f\"{n2} é maior que {n1}\")  "
      ],
      "execution_count": 0,
      "outputs": []
    },
    {
      "cell_type": "markdown",
      "metadata": {
        "id": "gdMis92izSmQ",
        "colab_type": "text"
      },
      "source": [
        "Crie um algoritmo em Python que peça um valor e mostre na tela se o valor é positivo ou negativo."
      ]
    },
    {
      "cell_type": "code",
      "metadata": {
        "id": "BFpWkdCBz_zh",
        "colab_type": "code",
        "colab": {}
      },
      "source": [
        "# INSIRA SEU CÓDIGO AQUI\n",
        "\n",
        "n1  = float(input(\"Por favor, Digite outro numero : \"))\n",
        "\n",
        "if n1 < 0 :\n",
        "  print(f\"{n1} é um valor negativo!! : ( \")\n",
        "else :\n",
        "  print(f\"{n1} é um valor Positivo !!! : ) \")"
      ],
      "execution_count": 0,
      "outputs": []
    },
    {
      "cell_type": "markdown",
      "metadata": {
        "id": "E_0l_Vx6zSo2",
        "colab_type": "text"
      },
      "source": [
        "Crie um algoritmo em Python que verifique se uma letra digitada é vogal ou consoante."
      ]
    },
    {
      "cell_type": "code",
      "metadata": {
        "id": "KwJf7XZS0AZW",
        "colab_type": "code",
        "colab": {}
      },
      "source": [
        "# INSIRA SEU CÓDIGO AQUI\n",
        "\n",
        "vogais = [\"A\",\"E\",\"I\",\"O\",\"U\"]\n",
        "\n",
        "letra = str(input(\"Por favor digite uma letra : \"))\n",
        "\n",
        "if letra.upper in vogais:\n",
        "  print(f\"{letra} é uma volgal !!\")\n",
        "else :\n",
        "  print(f\"{letra} é uma consoante !!\") \n",
        "\n"
      ],
      "execution_count": 0,
      "outputs": []
    },
    {
      "cell_type": "markdown",
      "metadata": {
        "id": "1i4VCiiczSrL",
        "colab_type": "text"
      },
      "source": [
        "Faça um programa para a leitura de duas notas parciais de um aluno. O programa deve calcular a média alcançada por aluno e apresentar:\n",
        "* \"Aprovado\", se a média alcançada for maior ou igual a sete;\n",
        "* \"Reprovado\", se a média for menor do que sete;\n",
        "* \"Aprovado com Distinção\", se a média for igual a 10."
      ]
    },
    {
      "cell_type": "code",
      "metadata": {
        "id": "yoW67hjA0BHy",
        "colab_type": "code",
        "colab": {}
      },
      "source": [
        "# INSIRA SEU CÓDIGO AQUI\n",
        "\n",
        "notas = []\n",
        "\n",
        "somador = 0\n",
        "\n",
        "while somador < 2:\n",
        "    somador += 1\n",
        "    notas.append(float(input(\"Digite sua nota por favor:\")))\n",
        "\n",
        "SomaNotas = sum(notas)\n",
        "\n",
        "NumNotas  = len(notas)\n",
        " \n",
        "media = SomaNotas / NumNotas\n",
        "\n",
        "if (media >= 7 )   and  (media <= 10):\n",
        "  print(f\"Parabens aluno, você foi Aprovado com na nota de {media} !!\")\n",
        "elif media > 11:\n",
        "  print(f\"Muito Bem aluno !!! Parabens você foi Aprovado com Distinção com a nota de {media}!!\")\n",
        "else :\n",
        "  print(f\"Que pena!! você foi reprovado : ( com a nota de {media} !!\")\n",
        "\n",
        "\n",
        "\n"
      ],
      "execution_count": 0,
      "outputs": []
    },
    {
      "cell_type": "markdown",
      "metadata": {
        "id": "4ep7kezvzStO",
        "colab_type": "text"
      },
      "source": [
        "Crie um algoritmo  que leia três números e mostre o maior deles."
      ]
    },
    {
      "cell_type": "code",
      "metadata": {
        "id": "6K6IHWdr0Blt",
        "colab_type": "code",
        "colab": {}
      },
      "source": [
        "# INSIRA SEU CÓDIGO AQUI\n",
        "\n",
        "numeros = []\n",
        "\n",
        "somador = 0\n",
        "\n",
        "while somador < 3:\n",
        "  numeros.append(float(input(\"Digite um numero por favor : \")))\n",
        "  somador += 1\n",
        "\n",
        "if numeros[0] > numeros[1] and numeros[0] > numeros[2]:\n",
        "  print(f\"O numero {numeros[0]} é maior entre {numeros[1::]}\")  \n",
        "\n",
        "elif numeros[1] > numeros[0] and numeros[1] > numeros[2]:\n",
        "  print(f\"O numero {numeros[1]} é o maior entre [{numeros[0]},{numeros[2]}]\") \n",
        "\n",
        "else :\n",
        "  print(f\"O numero {numeros[2]} entre {numeros[:2:]}\")\n"
      ],
      "execution_count": 0,
      "outputs": []
    },
    {
      "cell_type": "markdown",
      "metadata": {
        "id": "u6__NaXqzeYg",
        "colab_type": "text"
      },
      "source": [
        "Crie um algoritmo  que leia três números e mostre o maior e o menor deles."
      ]
    },
    {
      "cell_type": "code",
      "metadata": {
        "id": "mm2L7g3x0Cfx",
        "colab_type": "code",
        "colab": {}
      },
      "source": [
        "# INSIRA SEU CÓDIGO AQUI\n",
        "\n",
        "numeros = []\n",
        "\n",
        "somador = 0\n",
        "\n",
        "while somador < 3:\n",
        "  somador += 1\n",
        "  numeros.append(float(input(\"Digite um numero por favor : \")))\n",
        "\n",
        "if numeros[0] < numeros[1] and numeros[0] < numeros[2]:\n",
        "  print(f\"O numero {numeros[0]}  é o menos entre {numeros[1::]}\")\n",
        "\n",
        "elif numeros[1] < numeros[0] and numeros[1] < numeros[2]:\n",
        "  print(f\"O numeros {numeros[1]} é o menos entre [{numeros[0]},{numeros[2]}]\")  \n",
        "else:\n",
        "  print(f\"O numero {numeros[2]} é o menor entre {numeros[1::]}\")  \n"
      ],
      "execution_count": 0,
      "outputs": []
    },
    {
      "cell_type": "markdown",
      "metadata": {
        "id": "lIlfG-ATzgOr",
        "colab_type": "text"
      },
      "source": [
        "Faça um programa que pergunte o preço de 5 produtos e informe qual produto você deve comprar, sabendo que a decisão é sempre pelo mais barato."
      ]
    },
    {
      "cell_type": "code",
      "metadata": {
        "id": "-y4pB6br0DD_",
        "colab_type": "code",
        "colab": {}
      },
      "source": [
        "valoresProds = []\n",
        "somador = 0\n",
        "while somador < 5:\n",
        "  somador += 1\n",
        "  valoresProds.append(float(input(\"Por favor nos informe o valor do produto : \")))\n",
        "\n",
        "posMenorValor = 1 + valoresProds.index(min(valoresProds))\n",
        "\n",
        "posMenorValor\n",
        "\n",
        "print(f\"O {posMenorValor}.º item  é o mais indicado o valor  está saindo por apenas R${min(valoresProds)} \")\n",
        "\n",
        "\n"
      ],
      "execution_count": 0,
      "outputs": []
    },
    {
      "cell_type": "markdown",
      "metadata": {
        "id": "Vj4OXsJQziu_",
        "colab_type": "text"
      },
      "source": [
        "Crie um algoritmo em Python que leia três números e mostre-os em ordem decrescente."
      ]
    },
    {
      "cell_type": "code",
      "metadata": {
        "id": "RmApGpg30D00",
        "colab_type": "code",
        "colab": {}
      },
      "source": [
        "# INSIRA SEU CÓDIGO AQUI\n",
        "numeros = []\n",
        "\n",
        "somador = 0\n",
        "\n",
        "while somador < 3:\n",
        "  somador += 1\n",
        "  numeros.append(float(input(\"Digite um numero por favor : \")))\n",
        "\n",
        "print(f\"A ordem descrescente dos numeros é {sorted(numeros, reverse=False)}\")\n",
        "\n"
      ],
      "execution_count": 0,
      "outputs": []
    },
    {
      "cell_type": "markdown",
      "metadata": {
        "id": "e7id8Ewgzlow",
        "colab_type": "text"
      },
      "source": [
        "As Organizações Mendéz resolveram dar um aumento de salário aos seus colaboradores e lhe contraram para desenvolver o programa que calculará os reajustes em Python. Faça um programa que receba o salário de um colaborador e o reajuste segundo o seguinte critério, baseado no salário atual:\n",
        "\n",
        "* salários entre 680,00 e 800,00 : aumento de 15%<br>\n",
        "* salários entre 800,00 e 2500,00 : aumento de 10%<br>\n",
        "* salários de 2500,00 em diante : aumento de 5% após o aumento ser realizado.\n",
        "\n",
        "Informe na tela:\n",
        "* o salário antes do reajuste;\n",
        "* o percentual de aumento aplicado;\n",
        "* o valor do aumento;\n",
        "* o novo salário, após o aumento."
      ]
    },
    {
      "cell_type": "code",
      "metadata": {
        "id": "Kl0ainsv0Eif",
        "colab_type": "code",
        "colab": {}
      },
      "source": [
        "# INSIRA SEU CÓDIGO AQUI\n",
        "\n",
        "salarioAtual = float(input(\"Qual é o seu salario atualmente : \"))\n",
        "\n",
        "if (salarioAtual >= 680) and (salarioAtual <= 800):\n",
        "  porcAumento = 15\n",
        "  ajuste = (porcAumento * salarioAtual) / 100\n",
        "  novoSalario = salarioAtual + ajuste\n",
        "\n",
        "elif (salarioAtual >= 800.01) and (salarioAtual <= 2500):\n",
        "  porcAumento = 10\n",
        "  ajuste = (porcAumento * salarioAtual) / 100\n",
        "  novoSalario = salarioAtual + ajuste\n",
        "\n",
        "elif salarioAtual > 2500.01:\n",
        "  porcAumento = 5 \n",
        "  ajuste = (porcAumento * salarioAtual) / 100\n",
        "  novoSalario = salarioAtual + ajuste\n",
        "\n",
        "print(f'Olá, seu sálario antigamente era de R${salarioAtual}, o percentual aumentado foi de {porcAumento}% com um valor de R${ajuste}, seu salario a patir de agora é de R${novoSalario} ')"
      ],
      "execution_count": 0,
      "outputs": []
    }
  ]
}