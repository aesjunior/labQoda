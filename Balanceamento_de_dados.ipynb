{
  "nbformat": 4,
  "nbformat_minor": 0,
  "metadata": {
    "colab": {
      "name": "Untitled4.ipynb",
      "provenance": [],
      "authorship_tag": "ABX9TyMg+rbn8RE7XZkNoXPi824p",
      "include_colab_link": true
    },
    "kernelspec": {
      "name": "python3",
      "display_name": "Python 3"
    }
  },
  "cells": [
    {
      "cell_type": "markdown",
      "metadata": {
        "id": "view-in-github",
        "colab_type": "text"
      },
      "source": [
        "<a href=\"https://colab.research.google.com/github/aesjunior/labQoda/blob/master/Balanceamento_de_dados.ipynb\" target=\"_parent\"><img src=\"https://colab.research.google.com/assets/colab-badge.svg\" alt=\"Open In Colab\"/></a>"
      ]
    },
    {
      "cell_type": "code",
      "metadata": {
        "id": "rWVL7mJg1B7-",
        "colab_type": "code",
        "colab": {
          "base_uri": "https://localhost:8080/",
          "height": 85
        },
        "outputId": "b35d3cc3-d75e-4d29-a25b-54ace7f97d07"
      },
      "source": [
        "# balanceamento de dados \n",
        "\n",
        "import pandas as pd \n",
        "\n",
        "# Eu crio uma listas com os valores das amostras que será transformado em uma serie.\n",
        "data = [\"X\", \"X\", \"Y\", \"X\", \"Y\", \"X\", \"X\", \"Y\", \"Y\", \"X\", \"X\", \"X\"] \n",
        "\n",
        "# Descobrimos a quantidade de amostrs dentro da nossa serie.\n",
        "df_freq = pd.Series(data).value_counts()\n",
        "print(df_freq / len(data))\n",
        "\n",
        "if df_freq[0] != df_freq[1]:\n",
        "  print(\"Dados Desbalanceados !!\")\n",
        "else:\n",
        "  print(\"Dados Balanceados\")\n",
        "\n"
      ],
      "execution_count": 8,
      "outputs": [
        {
          "output_type": "stream",
          "text": [
            "X    0.666667\n",
            "Y    0.333333\n",
            "dtype: float64\n",
            "Dados Desbalanceados !!\n"
          ],
          "name": "stdout"
        }
      ]
    }
  ]
}