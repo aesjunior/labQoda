{
  "nbformat": 4,
  "nbformat_minor": 0,
  "metadata": {
    "colab": {
      "name": "Fase1.ipynb",
      "provenance": [],
      "collapsed_sections": [],
      "include_colab_link": true
    },
    "kernelspec": {
      "name": "python3",
      "display_name": "Python 3"
    }
  },
  "cells": [
    {
      "cell_type": "markdown",
      "metadata": {
        "id": "view-in-github",
        "colab_type": "text"
      },
      "source": [
        "<a href=\"https://colab.research.google.com/github/aesjunior/labQoda/blob/master/Lab01a.ipynb\" target=\"_parent\"><img src=\"https://colab.research.google.com/assets/colab-badge.svg\" alt=\"Open In Colab\"/></a>"
      ]
    },
    {
      "cell_type": "markdown",
      "metadata": {
        "id": "CYNAmoj4zSXl",
        "colab_type": "text"
      },
      "source": [
        "Crie um algoritmo em Python que mostre a mensagem \"Alo mundo\" na tela."
      ]
    },
    {
      "cell_type": "code",
      "metadata": {
        "id": "ViAfpy3GzPN-",
        "colab_type": "code",
        "outputId": "01ab87fe-073a-497c-98bc-b60ecc3e3971",
        "colab": {
          "base_uri": "https://localhost:8080/",
          "height": 34
        }
      },
      "source": [
        "# INSIRA SEU CÓDIGO AQUI\n",
        "\n",
        "print(\"Ola mundo !!\")"
      ],
      "execution_count": 0,
      "outputs": [
        {
          "output_type": "stream",
          "text": [
            "Ola mundo !!\n"
          ],
          "name": "stdout"
        }
      ]
    },
    {
      "cell_type": "markdown",
      "metadata": {
        "id": "gdMis92izSmQ",
        "colab_type": "text"
      },
      "source": [
        "Crie um algoritmo em Python que peça dois números e imprima a soma."
      ]
    },
    {
      "cell_type": "code",
      "metadata": {
        "id": "BFpWkdCBz_zh",
        "colab_type": "code",
        "outputId": "cfc897cd-ba0c-4508-9a6d-6f361188d813",
        "colab": {
          "base_uri": "https://localhost:8080/",
          "height": 68
        }
      },
      "source": [
        "# INSIRA SEU CÓDIGO AQUI\n",
        "\n",
        "n1 = int(input(\"Digite um numero: \"))\n",
        "n2 = int(input(\"Por Favor, Digite o proximo numero: \"))\n",
        "\n",
        "print(f\"a soma dois numeros sera {n1 + n2 } \")"
      ],
      "execution_count": 0,
      "outputs": [
        {
          "output_type": "stream",
          "text": [
            "Digite um numero: 8\n",
            "Por Favor, Digite o proximo numero: 9\n",
            "a soma dois numeros sera 17 \n"
          ],
          "name": "stdout"
        }
      ]
    },
    {
      "cell_type": "markdown",
      "metadata": {
        "id": "E_0l_Vx6zSo2",
        "colab_type": "text"
      },
      "source": [
        "Crie um algoritmo em Python que peça um número e então mostre a mensagem O número informado foi [número]."
      ]
    },
    {
      "cell_type": "code",
      "metadata": {
        "id": "KwJf7XZS0AZW",
        "colab_type": "code",
        "outputId": "5581f3b5-0543-4b3c-fd92-1dd4d945c535",
        "colab": {
          "base_uri": "https://localhost:8080/",
          "height": 51
        }
      },
      "source": [
        "# INSIRA SEU CÓDIGO AQUI\n",
        "\n",
        "numSolicitado = float(input(\"Por favor nos digite um  numero: \"))\n",
        "print(f\"O numero informado foi {numSolicitado}\")"
      ],
      "execution_count": 0,
      "outputs": [
        {
          "output_type": "stream",
          "text": [
            "Por favor nos digite um  numero: 8\n",
            "O numero informado foi 8.0\n"
          ],
          "name": "stdout"
        }
      ]
    },
    {
      "cell_type": "markdown",
      "metadata": {
        "id": "1i4VCiiczSrL",
        "colab_type": "text"
      },
      "source": [
        "Crie um algoritmo em Python que converta metros para centímetros."
      ]
    },
    {
      "cell_type": "code",
      "metadata": {
        "id": "yoW67hjA0BHy",
        "colab_type": "code",
        "outputId": "db93574a-b90d-4c74-eb13-0a06bcef3a8c",
        "colab": {
          "base_uri": "https://localhost:8080/",
          "height": 51
        }
      },
      "source": [
        "# INSIRA SEU CÓDIGO AQUI\n",
        "\n",
        "metros = float(input(\"Digite quantidade de metros: \"))\n",
        "\n",
        "centimetros = metros * 100\n",
        "\n",
        "print(f\"A quantidade de {metros} m² em centimentros é de {centimetros}, Obrigado !!\")\n"
      ],
      "execution_count": 0,
      "outputs": [
        {
          "output_type": "stream",
          "text": [
            "Digite quantidade de metros: 10\n",
            "A quantidade de 10.0 m² em centimentros é de 1000.0, Obrigado !!\n"
          ],
          "name": "stdout"
        }
      ]
    },
    {
      "cell_type": "markdown",
      "metadata": {
        "id": "4ep7kezvzStO",
        "colab_type": "text"
      },
      "source": [
        "Crie um algoritmo em Python que peça as 4 notas bimestrais e mostre a média."
      ]
    },
    {
      "cell_type": "code",
      "metadata": {
        "id": "6K6IHWdr0Blt",
        "colab_type": "code",
        "outputId": "a37ffbdb-bd32-49ab-89d5-1072c8afed46",
        "colab": {
          "base_uri": "https://localhost:8080/",
          "height": 102
        }
      },
      "source": [
        "# INSIRA SEU CÓDIGO AQUI\n",
        "notas = []\n",
        "contador = 0 \n",
        "while (contador < 4):\n",
        "  notas.append(float(input(\"Digite sua nota por favor:\")))\n",
        "  contador =  contador + 1\n",
        " \n",
        "totalDeNotas = len(notas)\n",
        "somaDasNotas = sum(notas)\n",
        "MediaDoAluno = somaDasNotas / int(totalDeNotas)\n",
        "\n",
        "print(f\"A média do Aluno é de {MediaDoAluno}\")\n",
        "\n"
      ],
      "execution_count": 0,
      "outputs": [
        {
          "output_type": "stream",
          "text": [
            "Digite sua nota por favor:8\n",
            "Digite sua nota por favor:5\n",
            "Digite sua nota por favor:4\n",
            "Digite sua nota por favor:5\n",
            "A média do Aluno é de 5.5\n"
          ],
          "name": "stdout"
        }
      ]
    },
    {
      "cell_type": "markdown",
      "metadata": {
        "id": "u6__NaXqzeYg",
        "colab_type": "text"
      },
      "source": [
        "Crie um algoritmo em Python que peça o raio de um círculo, calcule e mostre sua área."
      ]
    },
    {
      "cell_type": "code",
      "metadata": {
        "id": "mm2L7g3x0Cfx",
        "colab_type": "code",
        "outputId": "d9de2795-8328-4a05-ba32-0a5194577da8",
        "colab": {
          "base_uri": "https://localhost:8080/",
          "height": 51
        }
      },
      "source": [
        "# INSIRA SEU CÓDIGO AQUI\n",
        "import math\n",
        "\n",
        "r = float(input(\"Qual o raio do circulo ?\"))\n",
        "\n",
        "raiz  = math.sqrt(r)\n",
        "C = 3.14 * raiz\n",
        "\n",
        "print(f\"O tamanho do circulo  {C:.2f} \")\n",
        "\n"
      ],
      "execution_count": 0,
      "outputs": [
        {
          "output_type": "stream",
          "text": [
            "Qual o raio do circulo ?3\n",
            "O tamanho do circulo  5.44 \n"
          ],
          "name": "stdout"
        }
      ]
    },
    {
      "cell_type": "markdown",
      "metadata": {
        "id": "lIlfG-ATzgOr",
        "colab_type": "text"
      },
      "source": [
        "Crie um algoritmo em Python que calcule a área de um quadrado, em seguida mostre o dobro desta área para o usuário."
      ]
    },
    {
      "cell_type": "code",
      "metadata": {
        "id": "-y4pB6br0DD_",
        "colab_type": "code",
        "outputId": "d9d4b4ec-47d8-4395-c3ff-1e82d47bae95",
        "colab": {
          "base_uri": "https://localhost:8080/",
          "height": 68
        }
      },
      "source": [
        "# INSIRA SEU CÓDIGO AQUI\n",
        "h = float(input(\"Digite o primeiro lado do quadrado\"))\n",
        "\n",
        "b = float(input(\"Digite o segundo lado quadrado\"))\n",
        "\n",
        "a = b * h\n",
        "\n",
        "dobro = a * 2 \n",
        "\n",
        "print(f\"o quadrado tem {a} de area e {dobro} seria do dobro dessa area \")"
      ],
      "execution_count": 0,
      "outputs": [
        {
          "output_type": "stream",
          "text": [
            "Digite o primeiro lado do quadrado2\n",
            "Digite o segundo lado quadrado4\n",
            "o quadrado tem 8.0 de area e 16.0 seria do dobro dessa area \n"
          ],
          "name": "stdout"
        }
      ]
    },
    {
      "cell_type": "markdown",
      "metadata": {
        "id": "Vj4OXsJQziu_",
        "colab_type": "text"
      },
      "source": [
        "Crie um algoritmo em Python que pergunte quanto você ganha por hora e o número de horas trabalhadas no mês. Calcule e mostre o total do seu salário no referido mês.\n"
      ]
    },
    {
      "cell_type": "code",
      "metadata": {
        "id": "RmApGpg30D00",
        "colab_type": "code",
        "colab": {
          "base_uri": "https://localhost:8080/",
          "height": 68
        },
        "outputId": "165b1f24-7448-4431-f525-9bc3932b2d41"
      },
      "source": [
        "# INSIRA SEU CÓDIGO AQUI\n",
        "\n",
        "horas = float(input(\"Quantas horas voce trabalha por dia ? \"))\n",
        "salario = float(input(\"quanto você ganha por hora ? \"))\n",
        "\n",
        "SalDia =  (horas  *  salario)\n",
        "\n",
        "SalarioMes = 25 * SalDia\n",
        "\n",
        "print(f\"Supondo que nosso usuario trabalhasse apenas 25 dias no mês ele receberia {SalarioMes} \")"
      ],
      "execution_count": 5,
      "outputs": [
        {
          "output_type": "stream",
          "text": [
            "Quantas horas voce trabalha por dia ? 8\n",
            "quanto você ganha por hora ? 8\n",
            "Supondo que nosso usuario trabalhasse apenas 25 dias no mês ele receberia 1600.0 \n"
          ],
          "name": "stdout"
        }
      ]
    },
    {
      "cell_type": "markdown",
      "metadata": {
        "id": "e7id8Ewgzlow",
        "colab_type": "text"
      },
      "source": [
        "Crie um algoritmo em Python que peça a temperatura em graus Farenheit, transforme e mostre a temperatura em graus Celsius.\n",
        "C = (5 * (F-32) / 9)."
      ]
    },
    {
      "cell_type": "code",
      "metadata": {
        "id": "Kl0ainsv0Eif",
        "colab_type": "code",
        "colab": {
          "base_uri": "https://localhost:8080/",
          "height": 51
        },
        "outputId": "456b185d-b571-4dbe-9882-1480ca68eedd"
      },
      "source": [
        "# INSIRA SEU CÓDIGO AQUI\n",
        "\n",
        "fh = float(input(\"Qual a temperatura em Farenheit ?  \"))\n",
        "\n",
        "c = 5 * (fh - 32 ) / 9 \n",
        "\n",
        "print(f\"A temperatura de hoje em Celsius é de {c:.2f} \")"
      ],
      "execution_count": 9,
      "outputs": [
        {
          "output_type": "stream",
          "text": [
            "Qual a temperatura em Farenheit ?  79\n",
            "A temperatura de hoje em Celsius é de 26.11 \n"
          ],
          "name": "stdout"
        }
      ]
    },
    {
      "cell_type": "markdown",
      "metadata": {
        "id": "mFCgXRPaznno",
        "colab_type": "text"
      },
      "source": [
        "Crie um algoritmo em Python que peça a temperatura em graus Celsius, transforme e mostre em graus Farenheit."
      ]
    },
    {
      "cell_type": "code",
      "metadata": {
        "id": "xEAAHRi00FS8",
        "colab_type": "code",
        "colab": {
          "base_uri": "https://localhost:8080/",
          "height": 51
        },
        "outputId": "9699daff-9da3-4cd4-ff5a-0603f2c5afe5"
      },
      "source": [
        "# INSIRA SEU CÓDIGO AQUI\n",
        "\n",
        "c = float(input(\"Quantos em graus Celsius ?\"))\n",
        "\n",
        "fh = ( c  *  9 / 5) + 32\n",
        "\n",
        "print(f\"O graus em Celsius {c} é igual a {fh} em Farenheit \")\n",
        "\n",
        "\n",
        "\n"
      ],
      "execution_count": 11,
      "outputs": [
        {
          "output_type": "stream",
          "text": [
            "Quantos graus Celsius ?0\n",
            "O graus em Celsius 0.0 é igual a 32.0 em Farenheit \n"
          ],
          "name": "stdout"
        }
      ]
    },
    {
      "cell_type": "markdown",
      "metadata": {
        "id": "j3fdhu-8zqu9",
        "colab_type": "text"
      },
      "source": [
        "Crie um algoritmo em Python que peça 2 números inteiros e um número real. Calcule e mostre:\n",
        "* a soma do dobro do primeiro com metade do segundo .\n",
        "* a soma do triplo do primeiro com o terceiro.\n",
        "* o terceiro elevado ao cubo."
      ]
    },
    {
      "cell_type": "code",
      "metadata": {
        "id": "ZEqZrKjt0F5B",
        "colab_type": "code",
        "colab": {
          "base_uri": "https://localhost:8080/",
          "height": 85
        },
        "outputId": "2554c712-e41e-4340-9a61-83af55415c05"
      },
      "source": [
        "# INSIRA SEU CÓDIGO AQUI\n",
        "\n",
        "n1 = int(input(\"Digite um numero Inteiro : \"))\n",
        "\n",
        "n2 = int(input(\"Por Favor Digite mais um Numero Inteiro : \"))\n",
        "\n",
        "n3 = float(input(\"Ei, só mais um numero mas agora um real : \"))\n",
        "\n",
        "Ex1dobro =  (n1 * 2) + ( n2 / 2 )  \n",
        "\n",
        "Ex2Triplo = (n1 * 3) + n3\n",
        "\n",
        "Ex3Cubo = n3**3\n",
        "\n",
        "print(f\"A resposta do primeiro exercico é igual há {Ex1dobro}, do segundo {Ex2Triplo}, e do teceiro {Ex3Cubo} !\")"
      ],
      "execution_count": 14,
      "outputs": [
        {
          "output_type": "stream",
          "text": [
            "Digite um numero Inteiro : 1\n",
            "Por Favor Digite mais um Numero Inteiro : 1\n",
            "Ei, só mais um numero mas agora um real : 1.9\n",
            "6.858999999999999\n"
          ],
          "name": "stdout"
        }
      ]
    }
  ]
}